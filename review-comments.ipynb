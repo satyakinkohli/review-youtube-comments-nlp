{
  "nbformat": 4,
  "nbformat_minor": 0,
  "metadata": {
    "colab": {
      "name": "Sentiment analysis.ipynb",
      "provenance": [],
      "collapsed_sections": []
    },
    "kernelspec": {
      "name": "python3",
      "display_name": "Python 3"
    },
    "language_info": {
      "name": "python"
    }
  },
  "cells": [
    {
      "cell_type": "markdown",
      "source": [
        "Scraping Comments"
      ],
      "metadata": {
        "id": "p3kMFEP0yfeF"
      }
    },
    {
      "cell_type": "code",
      "source": [
        "# citations:\n",
        "# 1) the API used is from the Google Cloud Platform's Youtube API (\n",
        "# \"https://console.cloud.google.com/apis/dashboard\")\n",
        "# 2) some of the code has been taken from\n",
        "# \"https://www.geeksforgeeks.org/how-to-extract-youtube-comments-using-youtube-api-python/\". this code had problems\n",
        "# which we fixed and corrected on our own to adapt it to our needs\n",
        "\n",
        "\n",
        "# from googleapiclient.discovery import build\n",
        "# import json\n",
        "\n",
        "# # since API keys should be kept secure, we cannot share ours. so please use yours instead\n",
        "# api_key = input(\"Please enter your API key: \")\n",
        "\n",
        "\n",
        "# def video_comments(video_id):\n",
        "#     # creating youtube resource object\n",
        "#     youtube = build('youtube', 'v3',\n",
        "#                     developerKey=api_key)\n",
        "\n",
        "#     # retrieve youtube video results\n",
        "#     request = youtube.commentThreads().list(\n",
        "#         part='snippet,replies',\n",
        "#         videoId=video_id\n",
        "#     )\n",
        "\n",
        "#     i = 0\n",
        "#     storing_dict = {}\n",
        "\n",
        "#     # iterate video response\n",
        "#     while request:\n",
        "\n",
        "#         response = request.execute()\n",
        "\n",
        "#         # extracting required info\n",
        "#         # from each result object\n",
        "#         for item in response['items']:\n",
        "#             # Extracting comments\n",
        "#             comment = item['snippet']['topLevelComment']['snippet']['textDisplay']\n",
        "\n",
        "#             # this process takes a while, so we keep printing which comment number we are at\n",
        "#             print(i)\n",
        "#             storing_dict[i] = comment\n",
        "\n",
        "#             i += 1\n",
        "\n",
        "#         # Again repeat\n",
        "#         request = youtube.commentThreads().list_next(\n",
        "#             request, response)\n",
        "\n",
        "#         # We need 20000 comments, so we break here. Youtube only allows us to scrape ~20000 comments so we felt this\n",
        "#         # number was safe\n",
        "#         if i > 20000:\n",
        "#             break\n",
        "\n",
        "#     json_object = json.dumps(storing_dict, indent=4)\n",
        "\n",
        "#     # Writing to sample.json\n",
        "#     with open(\"comments-jb.json\", \"w\") as outfile:\n",
        "#         outfile.write(json_object)\n",
        "\n",
        "\n",
        "# # Enter video ID\n",
        "# video_ID = \"kffacxfA7G4\"\n",
        "\n",
        "# # Call function\n",
        "# video_comments(video_ID)"
      ],
      "metadata": {
        "id": "XKurIHVDyzaY"
      },
      "execution_count": null,
      "outputs": []
    },
    {
      "cell_type": "markdown",
      "source": [
        "Initial Cleaning of Comments"
      ],
      "metadata": {
        "id": "DY7mx7VQy8uw"
      }
    },
    {
      "cell_type": "code",
      "source": [
        "# removes <br> tags\n",
        "# removes &#39; and \\u2019\n",
        "# removes unicode\n",
        "# removes <a> tags\n",
        "# removes multiple spaces\n",
        "\n",
        "# import json\n",
        "# import re\n",
        "\n",
        "# with open('comments-jb.json') as f:\n",
        "#     data = json.load(f)\n",
        "\n",
        "# storing_dict = {}\n",
        "# k = 0\n",
        "\n",
        "# for i in range(0, len(data)):\n",
        "#     string = data[f\"{i}\"]\n",
        "#     string = string.replace(\"<br>\", \"\")\n",
        "#     string = string.replace(\"&#39;\", \"'\")\n",
        "#     string = string.replace(\"\\u2019\", \"'\")\n",
        "#     string = string.replace('\\r', '')\n",
        "#     string = string.replace('&lt;', '')\n",
        "#     string = string.replace('&gt;', '')\n",
        "#     string = string.replace('&quot;', '')\n",
        "#     string = string.encode(\"ascii\", \"ignore\")\n",
        "#     string = string.decode('utf-8')\n",
        "#     string = re.sub('<[^<]*?/?>', '', string)\n",
        "#     string = re.sub(r'http\\S+', '', string)\n",
        "#     string = string.lstrip()\n",
        "#     string = string.rstrip()\n",
        "#     if string != \"\":\n",
        "#         storing_dict[k] = string\n",
        "#         k += 1\n",
        "\n",
        "# json_object = json.dumps(storing_dict, indent=4)\n",
        "\n",
        "# with open(\"comments-jb-final.json\", \"w\") as outfile:\n",
        "#     outfile.write(json_object)\n"
      ],
      "metadata": {
        "id": "91IA9Y9TzCds"
      },
      "execution_count": null,
      "outputs": []
    },
    {
      "cell_type": "markdown",
      "source": [
        "Assigning Polarity to the Comments"
      ],
      "metadata": {
        "id": "mY8K9b20zP2D"
      }
    },
    {
      "cell_type": "code",
      "source": [
        "# import pandas as pd\n",
        "# import json\n",
        "# import nltk\n",
        "# from nltk.sentiment.vader import SentimentIntensityAnalyzer\n",
        "\n",
        "# nltk.download('vader_lexicon')\n",
        "\n",
        "# with open('comments-jb-final.json') as f:\n",
        "#     data = json.load(f)\n",
        "\n",
        "# # polarity_list_vader contains tuples of the comment and its assigned polarity score (from +1, -1 and 0)\n",
        "# polarity_list_vader = []\n",
        "# # we wanted to see what the ratio of positive to negative to neutral comments was, so we took a count\n",
        "# positive, negative, neutral = 0, 0, 0\n",
        "\n",
        "# for item in data:\n",
        "#     # made a SentimentIntensityAnalyzer object\n",
        "#     analyzer_vader = SentimentIntensityAnalyzer()\n",
        "#     # collected the score outputted by VADER. this has a positive, negative, neutral and compound score. we only use\n",
        "#     # the compound score\n",
        "#     sentiment_object_vader = analyzer_vader.polarity_scores(data[item])\n",
        "#     if sentiment_object_vader[\"compound\"] > 0:\n",
        "#         value = 1\n",
        "#         positive += 1\n",
        "#     elif sentiment_object_vader[\"compound\"] < 0:\n",
        "#         value = -1\n",
        "#         negative += 1\n",
        "#     elif sentiment_object_vader[\"compound\"] == 0:\n",
        "#         value = 0\n",
        "#         neutral += 1\n",
        "#     polarity_list_vader.append([value, str(data[item])])\n",
        "#     print(item)\n",
        "\n",
        "# # made a DataFrame using the tuples in the list\n",
        "# sentiment_df = pd.DataFrame(polarity_list_vader, columns=[\"polarity\", \"comment\"])\n",
        "\n",
        "# # saved the DataFrame into a csv\n",
        "# sentiment_df.to_csv(\"polarity-limits.csv\", sep=\",\")\n",
        "\n",
        "# print(\"positive:\", positive)\n",
        "# print(\"negative:\", negative)\n",
        "# print(\"neutral:\", neutral)"
      ],
      "metadata": {
        "id": "JlKDSbMwzTVS"
      },
      "execution_count": null,
      "outputs": []
    },
    {
      "cell_type": "markdown",
      "source": [
        "Cleaning the Comments and then Generating the Corpus"
      ],
      "metadata": {
        "id": "2JQgPNR9zbvL"
      }
    },
    {
      "cell_type": "code",
      "source": [
        "import re\n",
        "import nltk\n",
        "nltk.download('stopwords')\n",
        "from nltk.corpus import stopwords\n",
        "from nltk.stem.snowball import SnowballStemmer\n",
        "import pandas as pd\n",
        "\n",
        "dataset = pd.read_csv('polarity-limits.csv', index_col=0)\n",
        "# we did random sampling of our dataset and thus, randomly chose 25% of the comments scraped for faster results.\n",
        "# reducing the dataset size by choosing 25% of the comments did not affect the accuracy of our models as ~5000\n",
        "# comments is also a large dataset\n",
        "dataset = dataset.sample(frac=0.25)\n",
        "dataset = dataset.reset_index()\n",
        "\n",
        "# corpus will be filled with all comments from unique words\n",
        "corpus = []\n",
        "\n",
        "for i in range(0, len(dataset)):\n",
        "    # if the comment is \"\" after initial cleaning, just append \"\" to the corpus\n",
        "    if str(dataset['comment'][i]) == \"\":\n",
        "        corpus.append(\"\")\n",
        "        continue\n",
        "    # all comments in lowercase\n",
        "    comment = (str(dataset['comment'][i])).lower()\n",
        "    # comments only have alphabetical characters from a to z. everything else, including numbers and punctuation is\n",
        "    # removed\n",
        "    comment = re.sub('[^a-z]', ' ', comment)\n",
        "\n",
        "    # words like \"niceeeeeee\" and \"aaaaaaaaaaa\" are converted to \"nicee\" and \"aa\" using these lines of code\n",
        "    repeat_pattern = re.compile(r'(\\w)(\\1)\\1*')\n",
        "    match_substitution = r'\\1\\2'\n",
        "    comment = repeat_pattern.sub(match_substitution, comment)\n",
        "\n",
        "    # splitting the comments into a list of words\n",
        "    comment = comment.split()\n",
        "    # made a Snowball Stemmer object\n",
        "    snow_stemmer = SnowballStemmer(language='english')\n",
        "    # got the list of nltk suggested stopwords\n",
        "    all_stopwords = stopwords.words('english')\n",
        "    # removed the stopwords we think will prove useful to us from all_stopwords\n",
        "    stopwords_remove = [\"not, \"\"don'\", \"don't\", 'ain', 'aren', \"aren't\", 'couldn', \"couldn't\", 'didn', \"didn't\",\n",
        "                        'doesn', \"doesn't\", 'hadn', \"hadn't\", 'hasn', \"hasn't\", 'haven', \"haven't\", 'isn', \"isn't\",\n",
        "                        'ma', 'mightn', \"mightn't\", 'mustn', \"mustn't\", 'needn', \"needn't\", 'shan', \"shan't\", 'shouldn',\n",
        "                        \"shouldn't\", 'wasn', \"wasn't\", 'weren', \"weren't\", 'won', \"won't\", 'wouldn', \"wouldn't\"]\n",
        "\n",
        "    all_stopwords = [word for word in all_stopwords if word not in stopwords_remove]\n",
        "    # removed stopwords and stemmed the words\n",
        "    comment = [snow_stemmer.stem(word) for word in comment if not word in set(all_stopwords)]\n",
        "    # made a comment from the leftover words\n",
        "    comment = ' '.join(comment)\n",
        "    # appended the comment to the corpus\n",
        "    corpus.append(comment)\n",
        "\n",
        "print(corpus)"
      ],
      "metadata": {
        "id": "s0VjNRjUzgIt"
      },
      "execution_count": null,
      "outputs": []
    },
    {
      "cell_type": "markdown",
      "source": [
        "Vectorising the Elements of the corpus"
      ],
      "metadata": {
        "id": "47QlGnSPz9I-"
      }
    },
    {
      "cell_type": "code",
      "source": [
        "import pandas as pd\n",
        "from sklearn.model_selection import train_test_split\n",
        "from sklearn.feature_extraction.text import TfidfVectorizer\n",
        "\n",
        "# creating a TFIDF vectorizer object\n",
        "vectorObj = TfidfVectorizer(use_idf=True)\n",
        "\n",
        "# X are the features which are generated by using vectorObj \n",
        "X = vectorObj.fit_transform(corpus).toarray()\n",
        "# y are the labels\n",
        "y = dataset.iloc[:, -2].values"
      ],
      "metadata": {
        "id": "1IvxqST00CZf"
      },
      "execution_count": null,
      "outputs": []
    },
    {
      "cell_type": "markdown",
      "source": [
        "Splitting the Data into Training Data and Test Data"
      ],
      "metadata": {
        "id": "XT6MeX_Luf9k"
      }
    },
    {
      "cell_type": "code",
      "source": [
        "from sklearn.model_selection import train_test_split\n",
        "\n",
        "# splitting our data into training and test data\n",
        "X_train, X_test, y_train, y_test = train_test_split(X, y, test_size = 0.10, random_state = 0)"
      ],
      "metadata": {
        "id": "K0bJ7QK4sDv_"
      },
      "execution_count": null,
      "outputs": []
    },
    {
      "cell_type": "code",
      "source": [
        "# list which will keep track of accuracy score\n",
        "accuracyList = []\n",
        "# list which will keep track of f1 score\n",
        "f1List = []"
      ],
      "metadata": {
        "id": "BPiV2DLI1nX2"
      },
      "execution_count": null,
      "outputs": []
    },
    {
      "cell_type": "markdown",
      "source": [
        "Training the Machine Learning Model:\n",
        "**NAIVE BAYES**"
      ],
      "metadata": {
        "id": "V6sRavxI5m-N"
      }
    },
    {
      "cell_type": "code",
      "source": [
        "from sklearn.metrics import confusion_matrix, accuracy_score, f1_score\n",
        "from sklearn.naive_bayes import GaussianNB\n",
        "\n",
        "# made a GaussianNB classifier object\n",
        "classifier = GaussianNB()\n",
        "# training the model based on the features and corresponding output\n",
        "classifier.fit(X_train, y_train)\n",
        "# storing our predictions in y_pred\n",
        "y_pred = classifier.predict(X_test)\n",
        "# made a confusion matrix\n",
        "cm = confusion_matrix(y_test, y_pred)\n",
        "print(\"confusion matrix:\\n\", cm, end=\"\\n\\n\")\n",
        "# calculated the accuracy score and printed it in the percentage format\n",
        "ac = accuracy_score(y_test, y_pred)\n",
        "print(\"accuracy (%):\\n\" + str(ac * 100) + \" %\", end=\"\\n\\n\")\n",
        "# calculated the f1 score\n",
        "f1 = f1_score(y_test, y_pred, average='macro')\n",
        "print(\"f1 score [0, 1]:\\n\", f1, end=\"\\n\\n\")\n",
        "\n",
        "# kept track of accuracy score\n",
        "accuracyList.append(ac * 100)\n",
        "# kept track of f1 score\n",
        "f1List.append(f1)\n",
        "\n",
        "# printing the predictions of our classifier\n",
        "# print(np.concatenate((y_pred.reshape(len(y_pred),1), y_test.reshape(len(y_test),1)),1))"
      ],
      "metadata": {
        "colab": {
          "base_uri": "https://localhost:8080/"
        },
        "id": "C9XsgiUQ3Uss",
        "outputId": "05002ba9-819c-4712-c1bc-25684a90e3f7"
      },
      "execution_count": null,
      "outputs": [
        {
          "output_type": "stream",
          "name": "stdout",
          "text": [
            "confusion matrix:\n",
            " [[ 66  10  60]\n",
            " [ 30  40 136]\n",
            " [ 17   7 105]]\n",
            "\n",
            "accuracy (%):\n",
            "44.79830148619958 %\n",
            "\n",
            "f1 score [0, 1]:\n",
            " 0.44089169481888996\n",
            "\n"
          ]
        }
      ]
    },
    {
      "cell_type": "markdown",
      "source": [
        "Training the Machine Learning Model:\n",
        "**RANDOM FOREST**"
      ],
      "metadata": {
        "id": "6t9KqWXQ5yEX"
      }
    },
    {
      "cell_type": "markdown",
      "source": [
        "Parameter Tuning"
      ],
      "metadata": {
        "id": "H5RO-7WD4Wrw"
      }
    },
    {
      "cell_type": "code",
      "source": [
        "# citations:\n",
        "# 1) for parameter tuning, we have taken inspiration from https://analyticsindiamag.com/guide-to-multi-class-classification/\n",
        "\n",
        "\n",
        "from sklearn.ensemble import RandomForestClassifier\n",
        "import matplotlib.pyplot as plt\n",
        "import numpy as np\n",
        "\n",
        "# this list will store the error values\n",
        "error_rate = []\n",
        "\n",
        "steps = 20\n",
        "for i in range(1,200,steps):\n",
        "            # Random Forest classifier with value of n_estimators equal to i\n",
        "            randomforest = RandomForestClassifier(n_estimators=i, criterion='entropy', random_state=42)\n",
        "            randomforest.fit(X_train,y_train)\n",
        "            pred_i = randomforest.predict(X_test)\n",
        "            # calculating the error rate and storing it in error_rate\n",
        "            error_rate.append(np.mean(pred_i != y_test))\n",
        "\n",
        "# plotting the error vs value of parameter graph\n",
        "plt.figure(figsize=(13,8))\n",
        "plt.plot(range(1,200,steps), error_rate, linestyle = 'dotted', marker = 'o',color = 'g')\n",
        "plt.xlabel('Number of trees')\n",
        "plt.ylabel('Error Rate')\n",
        "plt.title('Number of trees Vs Error Rate')\n",
        "plt.show()\n",
        "\n",
        "# finding the optimal paramter value by finding the index of the minimum error value in the error_rate list\n",
        "optimal_parameter = error_rate.index(min(error_rate)) * steps\n",
        "print(\"optimal value of parameter:\", optimal_parameter)\n",
        "# optimal_parameter = 120"
      ],
      "metadata": {
        "colab": {
          "base_uri": "https://localhost:8080/",
          "height": 530
        },
        "id": "cmQGJfzUnmck",
        "outputId": "c376c965-22cd-41c3-c33e-644e6657fcb2"
      },
      "execution_count": null,
      "outputs": [
        {
          "output_type": "display_data",
          "data": {
            "image/png": "[encoded data removed]",
            "text/plain": [
              "<Figure size 936x576 with 1 Axes>"
            ]
          },
          "metadata": {
            "needs_background": "light"
          }
        },
        {
          "output_type": "stream",
          "name": "stdout",
          "text": [
            "optimal value of parameter: 120\n"
          ]
        }
      ]
    },
    {
      "cell_type": "code",
      "source": [
        "from sklearn.metrics import confusion_matrix, accuracy_score, f1_score\n",
        "from sklearn.ensemble import RandomForestClassifier\n",
        "\n",
        "# made a Random Forest classifier object\n",
        "classifier = RandomForestClassifier(n_estimators=optimal_parameter, criterion='entropy', random_state=42)\n",
        "# training the model based on the features and corresponding output\n",
        "classifier.fit(X_train, y_train)\n",
        "# storing our predictions in y_pred\n",
        "y_pred = classifier.predict(X_test)\n",
        "# made a confusion matrix\n",
        "cm = confusion_matrix(y_test, y_pred)\n",
        "print(\"confusion matrix:\\n\", cm, end=\"\\n\\n\")\n",
        "# calculated the accuracy score and printed it in the percentage format\n",
        "ac = accuracy_score(y_test, y_pred)\n",
        "print(\"accuracy (%):\\n\" + str(ac * 100) + \" %\", end=\"\\n\\n\")\n",
        "# calculated the f1 score\n",
        "f1 = f1_score(y_test, y_pred, average='macro')\n",
        "print(\"f1 score [0, 1]:\\n\", f1, end=\"\\n\\n\")\n",
        "\n",
        "# kept track of accuracy score\n",
        "accuracyList.append(ac * 100)\n",
        "# kept track of f1 score\n",
        "f1List.append(f1)\n",
        "\n",
        "# printing the predictions of our classifier\n",
        "# print(np.concatenate((y_pred.reshape(len(y_pred),1), y_test.reshape(len(y_test),1)),1))"
      ],
      "metadata": {
        "colab": {
          "base_uri": "https://localhost:8080/"
        },
        "id": "3twvqcEjzR71",
        "outputId": "0bbd9e6d-a24c-4de1-bbb8-273a716163b1"
      },
      "execution_count": null,
      "outputs": [
        {
          "output_type": "stream",
          "name": "stdout",
          "text": [
            "confusion matrix:\n",
            " [[113  17   6]\n",
            " [  6 197   3]\n",
            " [ 15  15  99]]\n",
            "\n",
            "accuracy (%):\n",
            "86.83651804670913 %\n",
            "\n",
            "f1 score [0, 1]:\n",
            " 0.8594090671495008\n",
            "\n"
          ]
        }
      ]
    },
    {
      "cell_type": "markdown",
      "source": [
        "Training the Machine Learning Model:\n",
        "**K NEAREST NEIGHBOURS**"
      ],
      "metadata": {
        "id": "YWoE9TNP51DE"
      }
    },
    {
      "cell_type": "markdown",
      "source": [
        "Parameter Tuning"
      ],
      "metadata": {
        "id": "dtaiVy6-4b_l"
      }
    },
    {
      "cell_type": "code",
      "source": [
        "# citations:\n",
        "# 1) for parameter tuning, we have taken inspiration from https://analyticsindiamag.com/guide-to-multi-class-classification/\n",
        "\n",
        "\n",
        "from sklearn.neighbors import KNeighborsClassifier\n",
        "import matplotlib.pyplot as plt\n",
        "import numpy as np\n",
        "\n",
        "# this list will store the error values\n",
        "error_rate = []\n",
        "\n",
        "for i in range(1,100):\n",
        "            # KNN classifier with value of n_neighbors equal to i\n",
        "            knn = KNeighborsClassifier(n_neighbors=i)\n",
        "            knn.fit(X_train,y_train)\n",
        "            pred_i = knn.predict(X_test)\n",
        "            # calculating the error rate and storing it in error_rate\n",
        "            error_rate.append(np.mean(pred_i != y_test))\n",
        "\n",
        "# plotting the error vs value of parameter graph\n",
        "plt.figure(figsize=(13,8))\n",
        "plt.plot(range(1,100), error_rate, linestyle = 'dotted', marker = 'o',color = 'g')\n",
        "plt.xlabel('K value')\n",
        "plt.ylabel('Error Rate')\n",
        "plt.title('K value Vs Error Rate')\n",
        "plt.show()\n",
        "\n",
        "# finding the optimal paramter value by finding the index of the minimum error value in the error_rate list\n",
        "optimal_parameter = error_rate.index(min(error_rate)) + 1\n",
        "print(\"optimal value of parameter:\", optimal_parameter)"
      ],
      "metadata": {
        "colab": {
          "base_uri": "https://localhost:8080/",
          "height": 530
        },
        "id": "thHB-efZnses",
        "outputId": "f0a10595-5d70-4343-9855-62b89bbbac52"
      },
      "execution_count": null,
      "outputs": [
        {
          "output_type": "display_data",
          "data": {
            "image/png": "[encoded data removed]",
            "text/plain": [
              "<Figure size 936x576 with 1 Axes>"
            ]
          },
          "metadata": {
            "needs_background": "light"
          }
        },
        {
          "output_type": "stream",
          "name": "stdout",
          "text": [
            "optimal value of parameter: 1\n"
          ]
        }
      ]
    },
    {
      "cell_type": "code",
      "source": [
        "from sklearn.metrics import confusion_matrix, accuracy_score, f1_score\n",
        "from sklearn.neighbors import KNeighborsClassifier\n",
        "\n",
        "# made a KNN classifier object\n",
        "classifier = KNeighborsClassifier(n_neighbors = optimal_parameter)\n",
        "# training the model based on the features and corresponding output\n",
        "classifier.fit(X_train, y_train)\n",
        "# storing our predictions in y_pred\n",
        "y_pred = classifier.predict(X_test)\n",
        "# made a confusion matrix\n",
        "cm = confusion_matrix(y_test, y_pred)\n",
        "print(\"confusion matrix:\\n\", cm, end=\"\\n\\n\")\n",
        "# calculated the accuracy score and printed it in the percentage format\n",
        "ac = accuracy_score(y_test, y_pred)\n",
        "print(\"accuracy (%):\\n\" + str(ac * 100) + \" %\", end=\"\\n\\n\")\n",
        "# calculated the f1 score\n",
        "f1 = f1_score(y_test, y_pred, average='macro')\n",
        "print(\"f1 score [0, 1]:\\n\", f1, end=\"\\n\\n\")\n",
        "\n",
        "# kept track of accuracy score\n",
        "accuracyList.append(ac * 100)\n",
        "# kept track of f1 score\n",
        "f1List.append(f1)\n",
        "\n",
        "# printing the predictions of our classifier\n",
        "# print(np.concatenate((y_pred.reshape(len(y_pred),1), y_test.reshape(len(y_test),1)),1))"
      ],
      "metadata": {
        "colab": {
          "base_uri": "https://localhost:8080/"
        },
        "id": "Mt_NSVCn_DlR",
        "outputId": "253b3cac-e591-4172-bcda-f0ce64f2951c"
      },
      "execution_count": null,
      "outputs": [
        {
          "output_type": "stream",
          "name": "stdout",
          "text": [
            "confusion matrix:\n",
            " [[ 84  45   7]\n",
            " [  8 192   6]\n",
            " [  9  44  76]]\n",
            "\n",
            "accuracy (%):\n",
            "74.73460721868365 %\n",
            "\n",
            "f1 score [0, 1]:\n",
            " 0.7315364975365782\n",
            "\n"
          ]
        }
      ]
    },
    {
      "cell_type": "markdown",
      "source": [
        "Visualisations"
      ],
      "metadata": {
        "id": "2zTGeK4I9CHx"
      }
    },
    {
      "cell_type": "code",
      "source": [
        "import matplotlib.pyplot as plt\n",
        "\n",
        "# plotting the graphs of the results\n",
        "\n",
        "algorithmNames = [\"Naive Bayes\", \"Random Forest\", \"KNN\"]\n",
        "\n",
        "plt.bar(algorithmNames, accuracyList[0:3])\n",
        "plt.title(\"Accuracy of 3 Machine Learning Algorithms\")\n",
        "plt.xlabel(\"Machine Learning Algorithm\")\n",
        "plt.ylabel(\"Accuracy (in %)\")\n",
        "plt.show()\n",
        "\n",
        "plt.bar(algorithmNames, f1List[0:3])\n",
        "plt.title(\"f1 scores of 3 Machine Learning Algorithms\")\n",
        "plt.xlabel(\"Machine Learning Algorithm\")\n",
        "plt.ylabel(\"f1 scores [0, 1]\")\n",
        "plt.show()\n"
      ],
      "metadata": {
        "colab": {
          "base_uri": "https://localhost:8080/",
          "height": 573
        },
        "id": "Thp9Kzc2OQGM",
        "outputId": "1357d977-eafa-462b-90c7-6d43f33f59ae"
      },
      "execution_count": null,
      "outputs": [
        {
          "output_type": "display_data",
          "data": {
            "image/png": "[encoded data removed]",
            "text/plain": [
              "<Figure size 432x288 with 1 Axes>"
            ]
          },
          "metadata": {
            "needs_background": "light"
          }
        },
        {
          "output_type": "display_data",
          "data": {
            "image/png": "[encoded data removed]",
            "text/plain": [
              "<Figure size 432x288 with 1 Axes>"
            ]
          },
          "metadata": {
            "needs_background": "light"
          }
        }
      ]
    }
  ]
}